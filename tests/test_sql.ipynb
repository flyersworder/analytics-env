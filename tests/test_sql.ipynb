{
 "cells": [
  {
   "cell_type": "code",
   "execution_count": null,
   "metadata": {},
   "outputs": [],
   "source": [
    "query = \"\"\"SELECT * FROM users\"\"\""
   ]
  },
  {
   "cell_type": "code",
   "execution_count": null,
   "metadata": {},
   "outputs": [],
   "source": [
    "query = \"\"\"SELECT id, name FROM customers WHERE status = 'active' ORDER BY name\"\"\""
   ]
  },
  {
   "cell_type": "code",
   "execution_count": null,
   "metadata": {},
   "outputs": [],
   "source": [
    "query = (\n",
    "    \"SELECT o.id, o.date,c.name FROM orders o JOIN customers c ON o.customer_id = c.id\"\n",
    ")"
   ]
  },
  {
   "cell_type": "code",
   "execution_count": null,
   "metadata": {},
   "outputs": [],
   "source": [
    "query = \"\"\"SELECT\n",
    "    status,\n",
    "    count(*)\n",
    "FROM orders\n",
    "GROUP BY status\n",
    "HAVING count(*) > 10\"\"\""
   ]
  },
  {
   "cell_type": "code",
   "execution_count": null,
   "metadata": {},
   "outputs": [],
   "source": [
    "# In a notebook cell\n",
    "def execute_query(sql):\n",
    "    # Dummy function\n",
    "    pass"
   ]
  },
  {
   "cell_type": "code",
   "execution_count": null,
   "metadata": {},
   "outputs": [],
   "source": [
    "execute_query(\n",
    "    \"\"\"SELECT\n",
    "    id,\n",
    "    name\n",
    "FROM products\n",
    "WHERE price > 100\"\"\"\n",
    ")"
   ]
  },
  {
   "cell_type": "code",
   "execution_count": null,
   "metadata": {},
   "outputs": [],
   "source": [
    "user_id = 42\n",
    "query = f\"\"\"SELECT *\n",
    "FROM users\n",
    "WHERE id = {user_id}\"\"\""
   ]
  },
  {
   "cell_type": "code",
   "execution_count": null,
   "metadata": {},
   "outputs": [],
   "source": [
    "# In a notebook cell\n",
    "%%sql\n",
    "select id, name from users group by 1 order by 2 desc"
   ]
  },
  {
   "cell_type": "code",
   "execution_count": null,
   "metadata": {},
   "outputs": [],
   "source": [
    "# In another cell\n",
    "%sql SELECT * FROM inventory WHERE quantity < 10"
   ]
  },
  {
   "cell_type": "code",
   "execution_count": null,
   "metadata": {},
   "outputs": [],
   "source": [
    "query = \"\"\"SELECT id, /* comment */ name\n",
    "FROM users -- end comment\"\"\""
   ]
  },
  {
   "cell_type": "code",
   "execution_count": null,
   "metadata": {},
   "outputs": [],
   "source": [
    "# In a notebook cell\n",
    "message = \"This is not SQL code.\""
   ]
  },
  {
   "cell_type": "code",
   "execution_count": null,
   "metadata": {},
   "outputs": [],
   "source": [
    "# In a notebook cell\n",
    "query = \"\""
   ]
  },
  {
   "cell_type": "code",
   "execution_count": null,
   "metadata": {},
   "outputs": [],
   "source": [
    "# In a notebook cell\n",
    "path = \"/path/to/sql/scripts/select_script.sql\""
   ]
  },
  {
   "cell_type": "code",
   "execution_count": null,
   "metadata": {},
   "outputs": [],
   "source": [
    "query = \"\"\"SELECT\n",
    "    id,\n",
    "\n",
    "    (SELECT max(score)\n",
    "     FROM scores\n",
    "     WHERE user_id = u.id) AS max_score\n",
    "FROM users u\n",
    "WHERE EXISTS\n",
    "        (SELECT 1\n",
    "         FROM orders o\n",
    "         WHERE o.user_id = u.id)\"\"\""
   ]
  },
  {
   "cell_type": "code",
   "execution_count": null,
   "metadata": {},
   "outputs": [],
   "source": [
    "query = \"\"\"SELECT\n",
    "    id,\n",
    "    USER,\n",
    "    product\n",
    "FROM products_master\"\"\""
   ]
  }
 ],
 "metadata": {
  "language_info": {
   "name": "python"
  }
 },
 "nbformat": 4,
 "nbformat_minor": 2
}
