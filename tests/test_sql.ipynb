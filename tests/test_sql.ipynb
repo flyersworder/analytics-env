{
 "cells": [
  {
   "cell_type": "code",
   "execution_count": null,
   "metadata": {},
   "outputs": [],
   "source": [
    "query = \"\"\"SELECT * FROM users\"\"\""
   ]
  },
  {
   "cell_type": "code",
   "execution_count": null,
   "metadata": {},
   "outputs": [],
   "source": [
    "query = \"\"\"\n",
    "SELECT id,\n",
    "       name\n",
    "FROM customers\n",
    "WHERE status = 'active'\n",
    "ORDER BY name\n",
    "\"\"\""
   ]
  },
  {
   "cell_type": "code",
   "execution_count": null,
   "metadata": {},
   "outputs": [],
   "source": [
    "query = \"\"\"\n",
    "SELECT o.id,\n",
    "       o.date,\n",
    "       c.name\n",
    "FROM orders o\n",
    "JOIN customers c ON o.customer_id = c.id\n",
    "\"\"\""
   ]
  },
  {
   "cell_type": "code",
   "execution_count": null,
   "metadata": {},
   "outputs": [],
   "source": [
    "query = \"\"\"\n",
    "SELECT status,\n",
    "       count(*)\n",
    "FROM orders\n",
    "GROUP BY status\n",
    "HAVING count(*) > 10\n",
    "\"\"\""
   ]
  },
  {
   "cell_type": "code",
   "execution_count": null,
   "metadata": {},
   "outputs": [],
   "source": [
    "# In a notebook cell\n",
    "def execute_query(sql):\n",
    "    # Dummy function\n",
    "    pass"
   ]
  },
  {
   "cell_type": "code",
   "execution_count": null,
   "metadata": {},
   "outputs": [],
   "source": [
    "execute_query(\n",
    "    \"\"\"\n",
    "SELECT\n",
    "    id,\n",
    "    name\n",
    "FROM products\n",
    "WHERE price > 100\n",
    "\"\"\"\n",
    ")"
   ]
  },
  {
   "cell_type": "code",
   "execution_count": null,
   "metadata": {},
   "outputs": [],
   "source": [
    "user_id = 42\n",
    "query = f\"\"\"\n",
    "SELECT *\n",
    "FROM users\n",
    "WHERE id = {user_id}\n",
    "\"\"\""
   ]
  },
  {
   "cell_type": "code",
   "execution_count": null,
   "metadata": {},
   "outputs": [],
   "source": [
    "# In a notebook cell\n",
    "%%sql\n",
    "SELECT id,\n",
    "       name\n",
    "FROM users\n",
    "GROUP BY 1\n",
    "ORDER BY 2 DESC"
   ]
  },
  {
   "cell_type": "code",
   "execution_count": null,
   "metadata": {},
   "outputs": [],
   "source": [
    "# In another cell\n",
    "%sql SELECT * FROM inventory WHERE quantity < 10"
   ]
  },
  {
   "cell_type": "code",
   "execution_count": null,
   "metadata": {},
   "outputs": [],
   "source": [
    "query = \"\"\"\n",
    "SELECT id, /* comment */ name\n",
    "FROM users -- end comment\n",
    "\"\"\""
   ]
  },
  {
   "cell_type": "code",
   "execution_count": null,
   "metadata": {},
   "outputs": [],
   "source": [
    "# In a notebook cell\n",
    "message = \"This is not SQL code.\""
   ]
  },
  {
   "cell_type": "code",
   "execution_count": null,
   "metadata": {},
   "outputs": [],
   "source": [
    "# In a notebook cell\n",
    "query = \"\""
   ]
  },
  {
   "cell_type": "code",
   "execution_count": null,
   "metadata": {},
   "outputs": [],
   "source": [
    "# In a notebook cell\n",
    "path = \"/path/to/sql/scripts/select_script.sql\""
   ]
  },
  {
   "cell_type": "code",
   "execution_count": null,
   "metadata": {},
   "outputs": [],
   "source": [
    "query = \"\"\"\n",
    "SELECT id,\n",
    "  (SELECT max(score)\n",
    "   FROM scores\n",
    "   WHERE user_id = u.id) AS max_score\n",
    "FROM users u\n",
    "WHERE EXISTS\n",
    "    (SELECT 1\n",
    "     FROM orders o\n",
    "     WHERE o.user_id = u.id)\n",
    "\"\"\""
   ]
  },
  {
   "cell_type": "code",
   "execution_count": null,
   "metadata": {},
   "outputs": [],
   "source": [
    "query = \"\"\"\n",
    "SELECT id,\n",
    "       user_name,\n",
    "       product\n",
    "FROM products_master\n",
    "\"\"\""
   ]
  }
 ],
 "metadata": {
  "language_info": {
   "name": "python"
  }
 },
 "nbformat": 4,
 "nbformat_minor": 2
}
