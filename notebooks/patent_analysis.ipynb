{
 "cells": [
  {
   "cell_type": "code",
   "execution_count": null,
   "metadata": {},
   "outputs": [],
   "source": [
    "import pandas as pd\n",
    "import plotly.graph_objects as go\n",
    "from plotly.subplots import make_subplots"
   ]
  },
  {
   "cell_type": "code",
   "execution_count": null,
   "metadata": {},
   "outputs": [],
   "source": [
    "file_path = \"data/bquxjob_1b6527cd_19277d89f7d.csv\"\n",
    "data = pd.read_csv(file_path)"
   ]
  },
  {
   "cell_type": "code",
   "execution_count": null,
   "metadata": {},
   "outputs": [],
   "source": [
    "pivot_data = data.pivot_table(\n",
    "    index=\"year\",\n",
    "    columns=\"country\",\n",
    "    values=\"patent_count\",\n",
    "    aggfunc=\"sum\",\n",
    ").fillna(0)\n",
    "total_patents = pivot_data.sum(axis=1)"
   ]
  },
  {
   "cell_type": "code",
   "execution_count": null,
   "metadata": {},
   "outputs": [],
   "source": [
    "pivot_data_percentage = pivot_data.div(pivot_data.sum(axis=1), axis=0) * 100"
   ]
  },
  {
   "cell_type": "code",
   "execution_count": null,
   "metadata": {},
   "outputs": [],
   "source": [
    "def plot_plotly_stacked_bar_and_line(pivot_data, absolute_data, title, filename=None):\n",
    "    fig = make_subplots(specs=[[{\"secondary_y\": True}]])\n",
    "    for country in pivot_data.columns:\n",
    "        fig.add_trace(\n",
    "            go.Bar(\n",
    "                x=pivot_data.index,\n",
    "                y=pivot_data[country],\n",
    "                name=country,\n",
    "                text=pivot_data[country].round(1).astype(str) + \"%\",\n",
    "                textposition=\"inside\",\n",
    "                hoverinfo=\"x+y+text\",\n",
    "            ),\n",
    "            secondary_y=False,\n",
    "        )\n",
    "    fig.add_trace(\n",
    "        go.Scatter(\n",
    "            x=absolute_data.index,\n",
    "            y=absolute_data,\n",
    "            mode=\"lines+markers\",\n",
    "            name=\"Total Patents\",\n",
    "            line=dict(color=\"red\", dash=\"dot\", width=2),\n",
    "            opacity=0.5,\n",
    "            hoverinfo=\"x+y\",\n",
    "        ),\n",
    "        secondary_y=True,\n",
    "    )\n",
    "    fig.update_yaxes(title_text=\"Percentage (%)\", secondary_y=False)\n",
    "    fig.update_yaxes(title_text=\"Total Patents\", secondary_y=True)\n",
    "    fig.update_layout(\n",
    "        title=title,\n",
    "        barmode=\"stack\",\n",
    "        xaxis_title=\"Year\",\n",
    "        legend_title=\"Legend\",\n",
    "        hovermode=\"x unified\",\n",
    "    )\n",
    "    fig.show()\n",
    "    if filename:\n",
    "        fig.write_html(filename)"
   ]
  },
  {
   "cell_type": "code",
   "execution_count": null,
   "metadata": {},
   "outputs": [],
   "source": [
    "plot_plotly_stacked_bar_and_line(\n",
    "    pivot_data_percentage,\n",
    "    total_patents,\n",
    "    \"Patent Share by Country (2014-2024)\",\n",
    ")"
   ]
  },
  {
   "cell_type": "code",
   "execution_count": null,
   "metadata": {},
   "outputs": [],
   "source": [
    "def plot_per_application_area(data, filename=None):\n",
    "    application_areas = data[\"application_area\"].unique()\n",
    "    for app_area in application_areas:\n",
    "        subset = data[data[\"application_area\"] == app_area]\n",
    "        pivot_data = subset.pivot_table(\n",
    "            index=\"year\",\n",
    "            columns=\"country\",\n",
    "            values=\"patent_count\",\n",
    "            aggfunc=\"sum\",\n",
    "        ).fillna(0)\n",
    "        total_patents = pivot_data.sum(axis=1)\n",
    "        pivot_data_percentage = pivot_data.div(pivot_data.sum(axis=1), axis=0) * 100\n",
    "        fig = make_subplots(specs=[[{\"secondary_y\": True}]])\n",
    "        for country in pivot_data_percentage.columns:\n",
    "            fig.add_trace(\n",
    "                go.Bar(\n",
    "                    x=pivot_data_percentage.index,\n",
    "                    y=pivot_data_percentage[country],\n",
    "                    name=country,\n",
    "                    text=pivot_data_percentage[country].round(1).astype(str) + \"%\",\n",
    "                    textposition=\"inside\",\n",
    "                    hoverinfo=\"x+y+text\",\n",
    "                ),\n",
    "                secondary_y=False,\n",
    "            )\n",
    "        fig.add_trace(\n",
    "            go.Scatter(\n",
    "                x=total_patents.index,\n",
    "                y=total_patents,\n",
    "                mode=\"lines+markers\",\n",
    "                name=\"Total Patents\",\n",
    "                line=dict(color=\"red\", dash=\"dot\", width=2),\n",
    "                opacity=0.5,\n",
    "                hoverinfo=\"x+y\",\n",
    "            ),\n",
    "            secondary_y=True,\n",
    "        )\n",
    "        fig.update_yaxes(title_text=\"Percentage (%)\", secondary_y=False)\n",
    "        fig.update_yaxes(title_text=\"Total Patents\", secondary_y=True)\n",
    "        fig.update_layout(\n",
    "            title=f\"100% Stacked Patent Share by Country in {app_area} (2014-2024)\",\n",
    "            barmode=\"stack\",\n",
    "            xaxis_title=\"Year\",\n",
    "            legend_title=\"Legend\",\n",
    "            hovermode=\"x unified\",\n",
    "        )\n",
    "        fig.show()\n",
    "        if filename:\n",
    "            fig.write_html(f\"{app_area}_patent_share.html\")"
   ]
  },
  {
   "cell_type": "code",
   "execution_count": null,
   "metadata": {},
   "outputs": [],
   "source": [
    "plot_per_application_area(data)"
   ]
  },
  {
   "cell_type": "code",
   "execution_count": null,
   "metadata": {},
   "outputs": [],
   "source": [
    "%%sql\n",
    "SELECT\n",
    "  A,\n",
    "  B,\n",
    "  C,\n",
    "  D,\n",
    "  E\n",
    "FROM TABLE WHERE DATE = 2 GROUP BY 1 ORDER BY 3"
   ]
  },
  {
   "cell_type": "code",
   "execution_count": null,
   "metadata": {},
   "outputs": [],
   "source": [
    "query = \"\"\"SELECT\n",
    "  A,\n",
    "  B,\n",
    "  C,\n",
    "  D,\n",
    "  E\n",
    "FROM TABLE WHERE DATE = 2 GROUP BY 1 ORDER BY 3\n",
    "\"\"\"\n"
   ]
  },
  {
   "cell_type": "code",
   "execution_count": null,
   "metadata": {},
   "outputs": [],
   "source": [
    "%%sql\n",
    "SELECT\n",
    "  A,\n",
    "  B,\n",
    "  C,\n",
    "  D,\n",
    "  E\n",
    "FROM TABLE INNER JOIN TABLE2 WHERE A = B AND C = D LIMIT 10"
   ]
  }
 ],
 "metadata": {
  "kernelspec": {
   "display_name": "Python 3 (ipykernel)",
   "language": "python",
   "name": "python3"
  },
  "language_info": {
   "codemirror_mode": {
    "name": "ipython",
    "version": 3
   },
   "file_extension": ".py",
   "mimetype": "text/x-python",
   "name": "python",
   "nbconvert_exporter": "python",
   "pygments_lexer": "ipython3",
   "version": "3.12.6"
  }
 },
 "nbformat": 4,
 "nbformat_minor": 4
}
