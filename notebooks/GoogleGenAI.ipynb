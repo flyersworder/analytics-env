{
 "cells": [
  {
   "cell_type": "code",
   "execution_count": null,
   "metadata": {},
   "outputs": [],
   "source": [
    "import os\n",
    "import uuid\n",
    "import docker\n",
    "import pandas as pd\n",
    "from dotenv import load_dotenv\n",
    "from pydantic import Field, PrivateAttr\n",
    "from langchain_experimental.agents import create_pandas_dataframe_agent\n",
    "from langchain_google_genai import ChatGoogleGenerativeAI\n",
    "from langchain_experimental.tools.python.tool import PythonAstREPLTool, sanitize_input"
   ]
  },
  {
   "cell_type": "code",
   "execution_count": null,
   "metadata": {},
   "outputs": [],
   "source": [
    "load_dotenv()"
   ]
  },
  {
   "cell_type": "markdown",
   "metadata": {},
   "source": [
    "## Initialize LLM"
   ]
  },
  {
   "cell_type": "code",
   "execution_count": null,
   "metadata": {},
   "outputs": [],
   "source": [
    "llm = ChatGoogleGenerativeAI(\n",
    "    model=\"gemini-2.0-flash-exp\",\n",
    "    temperature=0,\n",
    "    max_tokens=None,\n",
    "    timeout=None,\n",
    "    max_retries=2,\n",
    "    # other params...\n",
    ")"
   ]
  },
  {
   "cell_type": "code",
   "execution_count": null,
   "metadata": {},
   "outputs": [],
   "source": [
    "messages = [\n",
    "    (\n",
    "        \"system\",\n",
    "        \"You are a helpful assistant that translates English to French. Translate the user sentence.\",\n",
    "    ),\n",
    "    (\"human\", \"I love programming.\"),\n",
    "]\n",
    "ai_msg = llm.invoke(messages)\n",
    "ai_msg"
   ]
  },
  {
   "cell_type": "code",
   "execution_count": null,
   "metadata": {},
   "outputs": [],
   "source": [
    "print(ai_msg.content)"
   ]
  },
  {
   "cell_type": "markdown",
   "metadata": {},
   "source": [
    "## Dataframe Agent in Sandbox"
   ]
  },
  {
   "cell_type": "code",
   "execution_count": null,
   "metadata": {},
   "outputs": [],
   "source": [
    "df = pd.read_csv(\n",
    "    \"https://raw.githubusercontent.com/pandas-dev/pandas/main/doc/data/titanic.csv\"\n",
    ")"
   ]
  },
  {
   "cell_type": "code",
   "execution_count": null,
   "metadata": {},
   "outputs": [],
   "source": [
    "class DockerSandbox(PythonAstREPLTool):\n",
    "    \"\"\"An enhanced DockerSandbox for running Python code in a Docker container.\"\"\"\n",
    "\n",
    "    name: str = \"sandbox_execution\"\n",
    "    description: str = \"Executes Python code securely in Docker container\"\n",
    "    df: pd.DataFrame = Field(default_factory=pd.DataFrame)\n",
    "    _client: docker.DockerClient = PrivateAttr(default=None)  # Private attribute\n",
    "\n",
    "    def __init__(self, dataframe: pd.DataFrame):\n",
    "        super().__init__()\n",
    "        self.df = dataframe\n",
    "        self._client = docker.from_env()\n",
    "\n",
    "    def _run(self, query: str, run_manager=None) -> str:\n",
    "        unique_id = uuid.uuid4().hex\n",
    "        temp_data_path = f\"/tmp/data_{unique_id}.csv\"\n",
    "\n",
    "        # Clean up old files\n",
    "        for file in [\"/tmp/result.csv\", \"/tmp/result.txt\"]:\n",
    "            if os.path.exists(file):\n",
    "                os.remove(file)\n",
    "\n",
    "        # Save the dataframe\n",
    "        self.df.to_csv(temp_data_path, index=False)\n",
    "\n",
    "        # Sanitize input if the flag is set\n",
    "        if self.sanitize_input:\n",
    "            query = sanitize_input(query)\n",
    "        indented_query = \"\\n\".join([f\"    {line}\" for line in query.splitlines()])\n",
    "\n",
    "        # Add necessary imports and sandbox code\n",
    "        full_code = f\"\"\"\n",
    "import pandas as pd\n",
    "df = pd.read_csv('/data/data_{unique_id}.csv')\n",
    "\n",
    "try:\n",
    "{indented_query}\n",
    "except Exception as e:\n",
    "    print(f\"Error during execution: {{str(e)}}\")\n",
    "\"\"\"\n",
    "        # Debugging: Print the final script\n",
    "        print(\"Executing the following Python script in Docker:\")\n",
    "        print(full_code)\n",
    "\n",
    "        try:\n",
    "            container_output = self._client.containers.run(\n",
    "                \"jupyter/scipy-notebook:latest\",\n",
    "                command=[\"python\", \"-c\", full_code],\n",
    "                volumes={\"/tmp\": {\"bind\": \"/data\", \"mode\": \"rw\"}},\n",
    "                mem_limit=\"100m\",\n",
    "                cpu_period=100000,\n",
    "                cpu_quota=50000,\n",
    "                network_mode=\"none\",\n",
    "                remove=True,\n",
    "                stdout=True,\n",
    "                stderr=True,\n",
    "            )\n",
    "\n",
    "            # Read results\n",
    "            if os.path.exists(\"/tmp/result.txt\"):\n",
    "                with open(\"/tmp/result.txt\") as f:\n",
    "                    result = f.read()\n",
    "                return result\n",
    "\n",
    "            decoded_output = container_output.decode(\"utf-8\")\n",
    "            print(\"Container output:\")\n",
    "            print(decoded_output)\n",
    "            return decoded_output\n",
    "\n",
    "        except Exception as e:\n",
    "            return f\"Error: {str(e)}\""
   ]
  },
  {
   "cell_type": "code",
   "execution_count": null,
   "metadata": {},
   "outputs": [],
   "source": [
    "prompt = \"\"\"\n",
    "You are an expert data scientist working on a dataframe named `df`. Always use this dataframe for all your calculations and analyses. Avoid creating new dataframes or datasets unless explicitly instructed. \n",
    "You are generating Python code for execution in a secure sandbox. Double-check your syntax for common typos, such as using 'rint' instead of 'print'.\n",
    "Ensure all important and relevant results are printed.\n",
    "\"\"\".strip()"
   ]
  },
  {
   "cell_type": "code",
   "execution_count": null,
   "metadata": {},
   "outputs": [],
   "source": [
    "# Create sandbox\n",
    "sandbox = DockerSandbox(df)\n",
    "\n",
    "# Use with LangChain\n",
    "agent = create_pandas_dataframe_agent(\n",
    "    llm=llm,\n",
    "    df=df,\n",
    "    verbose=True,\n",
    "    allow_dangerous_code=True,\n",
    "    prefix=prompt,\n",
    ")"
   ]
  },
  {
   "cell_type": "code",
   "execution_count": null,
   "metadata": {},
   "outputs": [],
   "source": [
    "# Redefine the tools: using our own sandbox rather than the default one\n",
    "agent.tools = [sandbox]"
   ]
  },
  {
   "cell_type": "code",
   "execution_count": null,
   "metadata": {},
   "outputs": [],
   "source": [
    "agent.invoke(\n",
    "    \"What are the most (statistically) significant factors that causually affect the survival rate of passengers on the Titanic?\"\n",
    ")"
   ]
  },
  {
   "cell_type": "code",
   "execution_count": null,
   "metadata": {},
   "outputs": [],
   "source": []
  },
  {
   "cell_type": "code",
   "execution_count": null,
   "metadata": {},
   "outputs": [],
   "source": []
  }
 ],
 "metadata": {
  "kernelspec": {
   "display_name": ".venv",
   "language": "python",
   "name": "python3"
  },
  "language_info": {
   "codemirror_mode": {
    "name": "ipython",
    "version": 3
   },
   "file_extension": ".py",
   "mimetype": "text/x-python",
   "name": "python",
   "nbconvert_exporter": "python",
   "pygments_lexer": "ipython3",
   "version": "3.12.6"
  }
 },
 "nbformat": 4,
 "nbformat_minor": 2
}
